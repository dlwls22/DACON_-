{
 "cells": [
  {
   "cell_type": "code",
   "execution_count": null,
   "metadata": {},
   "outputs": [],
   "source": [
    "import pandas as pd\n",
    "import numpy as np\n",
    "import random\n",
    "import os\n",
    "import matplotlib\n",
    "import matplotlib.pyplot as plt\n",
    "import seaborn as sns\n",
    "\n",
    "def seed_everything(seed):\n",
    "    random.seed(seed)\n",
    "    os.environ['PYTHONHASHSEED'] = str(seed)\n",
    "    np.random.seed(seed)\n",
    "\n",
    "seed_everything(42)\n",
    "\n",
    "matplotlib.rcParams['font.family'] = 'Malgun Gothic'\n",
    "matplotlib.rcParams['axes.unicode_minus'] = False"
   ]
  },
  {
   "cell_type": "code",
   "execution_count": null,
   "metadata": {},
   "outputs": [],
   "source": [
    "train = pd.read_csv(r'C:\\Users\\dlwks\\OneDrive\\바탕 화면\\VSCode\\고객대출등급분류\\train.csv').drop(columns = 'ID')\n",
    "test = pd.read_csv(r'C:\\Users\\dlwks\\OneDrive\\바탕 화면\\VSCode\\고객대출등급분류\\test.csv').drop(columns = 'ID')\n",
    "submit = pd.read_csv(r'C:\\Users\\dlwks\\OneDrive\\바탕 화면\\VSCode\\고객대출등급분류\\sample_submission.csv')\n",
    "\n",
    "train.head(5)"
   ]
  },
  {
   "cell_type": "code",
   "execution_count": null,
   "metadata": {},
   "outputs": [],
   "source": [
    "train['대출등급'].unique()"
   ]
  },
  {
   "cell_type": "code",
   "execution_count": null,
   "metadata": {},
   "outputs": [],
   "source": [
    "train.info()"
   ]
  },
  {
   "cell_type": "code",
   "execution_count": null,
   "metadata": {},
   "outputs": [],
   "source": [
    "train.describe()"
   ]
  },
  {
   "cell_type": "code",
   "execution_count": null,
   "metadata": {},
   "outputs": [],
   "source": [
    "test.info()"
   ]
  },
  {
   "cell_type": "code",
   "execution_count": null,
   "metadata": {},
   "outputs": [],
   "source": [
    "train.isnull().sum()"
   ]
  },
  {
   "cell_type": "code",
   "execution_count": null,
   "metadata": {},
   "outputs": [],
   "source": [
    "train.value_counts('근로기간')"
   ]
  },
  {
   "cell_type": "code",
   "execution_count": null,
   "metadata": {},
   "outputs": [],
   "source": [
    "train.value_counts('대출등급')"
   ]
  },
  {
   "cell_type": "code",
   "execution_count": null,
   "metadata": {},
   "outputs": [],
   "source": [
    "# fig, axes = plt.subplots(2, 2, figsize = (25, 10))\n",
    "\n",
    "# sns.countplot(x = train['대출기간'], ax = axes[0][0]).set_title('대출기간')\n",
    "# sns.countplot(x = train['근로기간'], ax = axes[0][1]).set_title('근로기간')\n",
    "# sns.countplot(x = train['주택소유상태'], ax = axes[1][0]).set_title('주택소유상태')\n",
    "# sns.countplot(x = train['대출목적'], ax = axes[1][1]).set_title('대출목적')"
   ]
  },
  {
   "cell_type": "code",
   "execution_count": null,
   "metadata": {},
   "outputs": [],
   "source": [
    "from sklearn.preprocessing import LabelEncoder\n",
    "\n",
    "categorical_features = ['대출기간', '근로기간', '주택소유상태', '대출목적']\n",
    "\n",
    "for i in categorical_features:\n",
    "    le = LabelEncoder()\n",
    "    le=le.fit(train[i]) \n",
    "    train[i]=le.transform(train[i])\n",
    "    \n",
    "    for case in np.unique(test[i]):\n",
    "        if case not in le.classes_: \n",
    "            le.classes_ = np.append(le.classes_, case) \n",
    "    test[i]=le.transform(test[i])\n",
    "\n",
    "X = train.drop(columns=['대출등급'])\n",
    "\n",
    "le_y = LabelEncoder()\n",
    "y = le_y.fit_transform(train['대출등급'])"
   ]
  },
  {
   "cell_type": "code",
   "execution_count": null,
   "metadata": {},
   "outputs": [],
   "source": [
    "from sklearn.model_selection import train_test_split\n",
    "\n",
    "X_train, X_val, y_train, y_val = train_test_split(X, y, test_size = 0.2, random_state = 42)"
   ]
  },
  {
   "cell_type": "code",
   "execution_count": null,
   "metadata": {},
   "outputs": [],
   "source": [
    "print(X_train.shape)\n",
    "print(X_val.shape)\n",
    "print(y_train.shape)\n",
    "print(y_val.shape)"
   ]
  },
  {
   "cell_type": "code",
   "execution_count": null,
   "metadata": {},
   "outputs": [],
   "source": [
    "from sklearn.ensemble import RandomForestClassifier\n",
    "from sklearn.ensemble import ExtraTreesClassifier\n",
    "from xgboost import XGBClassifier\n",
    "from lightgbm import LGBMClassifier\n",
    "from catboost import CatBoostClassifier\n",
    "\n",
    "rf_clf = RandomForestClassifier()\n",
    "ext_clf = ExtraTreesClassifier()\n",
    "xgb_clf = XGBClassifier()\n",
    "lgbm_clf = LGBMClassifier()\n",
    "cat_clf = CatBoostClassifier()"
   ]
  },
  {
   "cell_type": "code",
   "execution_count": null,
   "metadata": {},
   "outputs": [],
   "source": [
    "rf_clf.fit(X_train, y_train)\n",
    "ext_clf.fit(X_train, y_train)\n",
    "xgb_clf.fit(X_train, y_train)\n",
    "lgbm_clf.fit(X_train, y_train)\n",
    "cat_clf.fit(X_train, y_train)"
   ]
  },
  {
   "cell_type": "code",
   "execution_count": null,
   "metadata": {},
   "outputs": [],
   "source": [
    "from sklearn.metrics import accuracy_score\n",
    "\n",
    "rf_pred = rf_clf.predict(X_val)\n",
    "ext_pred = ext_clf.predict(X_val)\n",
    "xgb_pred = xgb_clf.predict(X_val)\n",
    "lgbm_pred = lgbm_clf.predict(X_val)\n",
    "cat_pred = cat_clf.predict(X_val)\n",
    "\n",
    "print('rf 정확도 :', accuracy_score(y_val, rf_pred))\n",
    "print('ext 정확도 :', accuracy_score(y_val, ext_pred))\n",
    "print('xgb 정확도 :', accuracy_score(y_val, xgb_pred))\n",
    "print('lgbm 정확도 :', accuracy_score(y_val, lgbm_pred))\n",
    "print('cat 정확도 :', accuracy_score(y_val, cat_pred))"
   ]
  },
  {
   "cell_type": "code",
   "execution_count": null,
   "metadata": {},
   "outputs": [],
   "source": [
    "stacked = np.column_stack([rf_pred, ext_pred, xgb_pred, lgbm_pred, cat_pred])\n",
    "stacked.shape"
   ]
  },
  {
   "cell_type": "code",
   "execution_count": null,
   "metadata": {},
   "outputs": [],
   "source": [
    "xgb_final = XGBClassifier(objective=\"multi:softprob\", num_class=7)\n",
    "\n",
    "xgb_final.fit(stacked, y_val)\n",
    "\n",
    "final_pred_train = xgb_final.predict(stacked)\n",
    "\n",
    "print('최종 정확도 :', accuracy_score(y_val, final_pred_train))"
   ]
  },
  {
   "cell_type": "code",
   "execution_count": null,
   "metadata": {},
   "outputs": [],
   "source": [
    "rf_test_pred = rf_clf.predict(test)\n",
    "ext_test_pred = ext_clf.predict(test)\n",
    "xgb_test_pred = xgb_clf.predict(test)\n",
    "lgbm_test_pred = lgbm_clf.predict(test)\n",
    "cat_test_pred = cat_clf.predict(test)"
   ]
  },
  {
   "cell_type": "code",
   "execution_count": null,
   "metadata": {},
   "outputs": [],
   "source": [
    "stacked_test = np.column_stack([rf_test_pred, ext_test_pred, xgb_test_pred, lgbm_test_pred, cat_test_pred])\n",
    "\n",
    "final_test_pred = xgb_final.predict(stacked_test)\n",
    "\n",
    "final_test_pred.shape"
   ]
  },
  {
   "cell_type": "code",
   "execution_count": null,
   "metadata": {},
   "outputs": [],
   "source": [
    "submit['대출등급 '] = final_test_pred\n",
    "\n",
    "submit.shape\n",
    "\n",
    "predicted_labels = submit['대출등급']\n",
    "\n",
    "predicted_original_labels = le_y.inverse_transform(predicted_labels)\n",
    "\n",
    "submit['대출등급'] = predicted_original_labels"
   ]
  },
  {
   "cell_type": "code",
   "execution_count": null,
   "metadata": {},
   "outputs": [],
   "source": [
    "submit.to_csv('C:\\\\Users\\\\dlwks\\\\OneDrive\\\\바탕 화면\\\\VSCode\\\\고객대출등급분류\\\\1.csv', index = False)"
   ]
  },
  {
   "cell_type": "code",
   "execution_count": null,
   "metadata": {},
   "outputs": [],
   "source": []
  }
 ],
 "metadata": {
  "kernelspec": {
   "display_name": "Python 3",
   "language": "python",
   "name": "python3"
  },
  "language_info": {
   "codemirror_mode": {
    "name": "ipython",
    "version": 3
   },
   "file_extension": ".py",
   "mimetype": "text/x-python",
   "name": "python",
   "nbconvert_exporter": "python",
   "pygments_lexer": "ipython3",
   "version": "3.11.2"
  }
 },
 "nbformat": 4,
 "nbformat_minor": 2
}
